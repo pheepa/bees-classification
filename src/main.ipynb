{
  "nbformat": 4,
  "nbformat_minor": 0,
  "metadata": {
    "kernelspec": {
      "display_name": "Python 3",
      "language": "python",
      "name": "python3"
    },
    "language_info": {
      "codemirror_mode": {
        "name": "ipython",
        "version": 3
      },
      "file_extension": ".py",
      "mimetype": "text/x-python",
      "name": "python",
      "nbconvert_exporter": "python",
      "pygments_lexer": "ipython3",
      "version": "3.8.5"
    },
    "colab": {
      "name": "main.ipynb",
      "provenance": [],
      "toc_visible": true
    },
    "accelerator": "GPU",
    "widgets": {
      "application/vnd.jupyter.widget-state+json": {
        "bcd22447dd14453fbff4a888e3ad1702": {
          "model_module": "@jupyter-widgets/controls",
          "model_name": "HBoxModel",
          "state": {
            "_view_name": "HBoxView",
            "_dom_classes": [],
            "_model_name": "HBoxModel",
            "_view_module": "@jupyter-widgets/controls",
            "_model_module_version": "1.5.0",
            "_view_count": null,
            "_view_module_version": "1.5.0",
            "box_style": "",
            "layout": "IPY_MODEL_ba4d85262b4e4999886f74b895364a4e",
            "_model_module": "@jupyter-widgets/controls",
            "children": [
              "IPY_MODEL_a7145a76606e40d8824f7b36ada3f272",
              "IPY_MODEL_4a0d04d825204018ba2c9ea04cdc8bcd"
            ]
          }
        },
        "ba4d85262b4e4999886f74b895364a4e": {
          "model_module": "@jupyter-widgets/base",
          "model_name": "LayoutModel",
          "state": {
            "_view_name": "LayoutView",
            "grid_template_rows": null,
            "right": null,
            "justify_content": null,
            "_view_module": "@jupyter-widgets/base",
            "overflow": null,
            "_model_module_version": "1.2.0",
            "_view_count": null,
            "flex_flow": null,
            "width": null,
            "min_width": null,
            "border": null,
            "align_items": null,
            "bottom": null,
            "_model_module": "@jupyter-widgets/base",
            "top": null,
            "grid_column": null,
            "overflow_y": null,
            "overflow_x": null,
            "grid_auto_flow": null,
            "grid_area": null,
            "grid_template_columns": null,
            "flex": null,
            "_model_name": "LayoutModel",
            "justify_items": null,
            "grid_row": null,
            "max_height": null,
            "align_content": null,
            "visibility": null,
            "align_self": null,
            "height": null,
            "min_height": null,
            "padding": null,
            "grid_auto_rows": null,
            "grid_gap": null,
            "max_width": null,
            "order": null,
            "_view_module_version": "1.2.0",
            "grid_template_areas": null,
            "object_position": null,
            "object_fit": null,
            "grid_auto_columns": null,
            "margin": null,
            "display": null,
            "left": null
          }
        },
        "a7145a76606e40d8824f7b36ada3f272": {
          "model_module": "@jupyter-widgets/controls",
          "model_name": "FloatProgressModel",
          "state": {
            "_view_name": "ProgressView",
            "style": "IPY_MODEL_2106aa44fb8e4c25be42df65443bea9e",
            "_dom_classes": [],
            "description": "100%",
            "_model_name": "FloatProgressModel",
            "bar_style": "success",
            "max": 11,
            "_view_module": "@jupyter-widgets/controls",
            "_model_module_version": "1.5.0",
            "value": 11,
            "_view_count": null,
            "_view_module_version": "1.5.0",
            "orientation": "horizontal",
            "min": 0,
            "description_tooltip": null,
            "_model_module": "@jupyter-widgets/controls",
            "layout": "IPY_MODEL_0e1c87698bce4a2aa703698547486b87"
          }
        },
        "4a0d04d825204018ba2c9ea04cdc8bcd": {
          "model_module": "@jupyter-widgets/controls",
          "model_name": "HTMLModel",
          "state": {
            "_view_name": "HTMLView",
            "style": "IPY_MODEL_016af419b4b24d0db3fa50b4ae7b7804",
            "_dom_classes": [],
            "description": "",
            "_model_name": "HTMLModel",
            "placeholder": "​",
            "_view_module": "@jupyter-widgets/controls",
            "_model_module_version": "1.5.0",
            "value": " 11/11 [11:15&lt;00:00, 61.41s/it]",
            "_view_count": null,
            "_view_module_version": "1.5.0",
            "description_tooltip": null,
            "_model_module": "@jupyter-widgets/controls",
            "layout": "IPY_MODEL_811dceb107ac4889b75286e499fcdc77"
          }
        },
        "2106aa44fb8e4c25be42df65443bea9e": {
          "model_module": "@jupyter-widgets/controls",
          "model_name": "ProgressStyleModel",
          "state": {
            "_view_name": "StyleView",
            "_model_name": "ProgressStyleModel",
            "description_width": "initial",
            "_view_module": "@jupyter-widgets/base",
            "_model_module_version": "1.5.0",
            "_view_count": null,
            "_view_module_version": "1.2.0",
            "bar_color": null,
            "_model_module": "@jupyter-widgets/controls"
          }
        },
        "0e1c87698bce4a2aa703698547486b87": {
          "model_module": "@jupyter-widgets/base",
          "model_name": "LayoutModel",
          "state": {
            "_view_name": "LayoutView",
            "grid_template_rows": null,
            "right": null,
            "justify_content": null,
            "_view_module": "@jupyter-widgets/base",
            "overflow": null,
            "_model_module_version": "1.2.0",
            "_view_count": null,
            "flex_flow": null,
            "width": null,
            "min_width": null,
            "border": null,
            "align_items": null,
            "bottom": null,
            "_model_module": "@jupyter-widgets/base",
            "top": null,
            "grid_column": null,
            "overflow_y": null,
            "overflow_x": null,
            "grid_auto_flow": null,
            "grid_area": null,
            "grid_template_columns": null,
            "flex": null,
            "_model_name": "LayoutModel",
            "justify_items": null,
            "grid_row": null,
            "max_height": null,
            "align_content": null,
            "visibility": null,
            "align_self": null,
            "height": null,
            "min_height": null,
            "padding": null,
            "grid_auto_rows": null,
            "grid_gap": null,
            "max_width": null,
            "order": null,
            "_view_module_version": "1.2.0",
            "grid_template_areas": null,
            "object_position": null,
            "object_fit": null,
            "grid_auto_columns": null,
            "margin": null,
            "display": null,
            "left": null
          }
        },
        "016af419b4b24d0db3fa50b4ae7b7804": {
          "model_module": "@jupyter-widgets/controls",
          "model_name": "DescriptionStyleModel",
          "state": {
            "_view_name": "StyleView",
            "_model_name": "DescriptionStyleModel",
            "description_width": "",
            "_view_module": "@jupyter-widgets/base",
            "_model_module_version": "1.5.0",
            "_view_count": null,
            "_view_module_version": "1.2.0",
            "_model_module": "@jupyter-widgets/controls"
          }
        },
        "811dceb107ac4889b75286e499fcdc77": {
          "model_module": "@jupyter-widgets/base",
          "model_name": "LayoutModel",
          "state": {
            "_view_name": "LayoutView",
            "grid_template_rows": null,
            "right": null,
            "justify_content": null,
            "_view_module": "@jupyter-widgets/base",
            "overflow": null,
            "_model_module_version": "1.2.0",
            "_view_count": null,
            "flex_flow": null,
            "width": null,
            "min_width": null,
            "border": null,
            "align_items": null,
            "bottom": null,
            "_model_module": "@jupyter-widgets/base",
            "top": null,
            "grid_column": null,
            "overflow_y": null,
            "overflow_x": null,
            "grid_auto_flow": null,
            "grid_area": null,
            "grid_template_columns": null,
            "flex": null,
            "_model_name": "LayoutModel",
            "justify_items": null,
            "grid_row": null,
            "max_height": null,
            "align_content": null,
            "visibility": null,
            "align_self": null,
            "height": null,
            "min_height": null,
            "padding": null,
            "grid_auto_rows": null,
            "grid_gap": null,
            "max_width": null,
            "order": null,
            "_view_module_version": "1.2.0",
            "grid_template_areas": null,
            "object_position": null,
            "object_fit": null,
            "grid_auto_columns": null,
            "margin": null,
            "display": null,
            "left": null
          }
        }
      }
    }
  },
  "cells": [
    {
      "cell_type": "markdown",
      "metadata": {
        "id": "5XYTx0h7bjFG"
      },
      "source": [
        "# Imports"
      ]
    },
    {
      "cell_type": "code",
      "metadata": {
        "id": "i8Q14mPjbjFK"
      },
      "source": [
        "import tensorflow as tf\n",
        "\n",
        "import numpy as np\n",
        "import os\n",
        "from pathlib import Path\n",
        "\n",
        "from tqdm.notebook import tqdm"
      ],
      "execution_count": 1,
      "outputs": []
    },
    {
      "cell_type": "code",
      "metadata": {
        "id": "xpG4NWCfbjFL"
      },
      "source": [
        "AUTOTUNE = tf.data.experimental.AUTOTUNE"
      ],
      "execution_count": 2,
      "outputs": []
    },
    {
      "cell_type": "markdown",
      "metadata": {
        "id": "7bBjYB-lbjFL"
      },
      "source": [
        "# Data"
      ]
    },
    {
      "cell_type": "code",
      "metadata": {
        "id": "JEe7C66YbjFM"
      },
      "source": [
        "SCALE_SIZE = 224"
      ],
      "execution_count": 5,
      "outputs": []
    },
    {
      "cell_type": "code",
      "metadata": {
        "id": "-H8e0tqYbjFM"
      },
      "source": [
        "DATA_DIR = Path('../input/beeVSwasp/')\n",
        "BEE_DIR = Path('../input/beeVSwasp/bee')\n",
        "WASP_DIR = Path('../input/beeVSwasp/wasp')\n",
        "\n",
        "bee_files = sorted(list(BEE_DIR.rglob('*.jpg')))\n",
        "bee_files = [str(x) for x in bee_files]\n",
        "\n",
        "wasp_files = sorted(list(WASP_DIR.rglob('*.jpg')))\n",
        "wasp_files = [str(x) for x in wasp_files]"
      ],
      "execution_count": 6,
      "outputs": []
    },
    {
      "cell_type": "code",
      "metadata": {
        "colab": {
          "base_uri": "https://localhost:8080/"
        },
        "id": "q-JALpgBbjFM",
        "outputId": "d03a28a7-dc47-4abf-b79e-71c839e91a1a"
      },
      "source": [
        "BEE_SIZE = len(bee_files)\n",
        "WASP_SIZE = len(wasp_files)\n",
        "print(len(bee_files), len(wasp_files))"
      ],
      "execution_count": 7,
      "outputs": [
        {
          "output_type": "stream",
          "text": [
            "2469 2126\n"
          ],
          "name": "stdout"
        }
      ]
    },
    {
      "cell_type": "code",
      "metadata": {
        "id": "vuWNkTCLbjFN"
      },
      "source": [
        "def preprocess_image(image):\n",
        "    image = tf.image.decode_jpeg(image, channels=3)\n",
        "    image = tf.image.resize(image, [SCALE_SIZE, SCALE_SIZE])\n",
        "    image /= 255.0  # normalize to [0,1] range\n",
        "\n",
        "    return image\n",
        "\n",
        "def load_and_preprocess_image(path):\n",
        "    image = tf.io.read_file(path)\n",
        "    return preprocess_image(image)"
      ],
      "execution_count": 8,
      "outputs": []
    },
    {
      "cell_type": "markdown",
      "metadata": {
        "id": "nYKFGJusbjFN"
      },
      "source": [
        "1 == Bee\n",
        "\n",
        "0 == Wasp"
      ]
    },
    {
      "cell_type": "code",
      "metadata": {
        "id": "pnRyUi0jbjFN"
      },
      "source": [
        "labels = [1 for _ in range(BEE_SIZE)] + [0 for _ in range(WASP_SIZE)]\n",
        "files = bee_files + wasp_files"
      ],
      "execution_count": 9,
      "outputs": []
    },
    {
      "cell_type": "code",
      "metadata": {
        "id": "gnvUwojBbjFO"
      },
      "source": [
        "path_ds = tf.data.Dataset.from_tensor_slices(files)"
      ],
      "execution_count": 10,
      "outputs": []
    },
    {
      "cell_type": "code",
      "metadata": {
        "id": "i_-Cz5VmbjFO"
      },
      "source": [
        "image_ds = path_ds.map(load_and_preprocess_image, num_parallel_calls=AUTOTUNE)"
      ],
      "execution_count": 11,
      "outputs": []
    },
    {
      "cell_type": "code",
      "metadata": {
        "id": "wX9yZ4gfbjFO"
      },
      "source": [
        "label_ds = tf.data.Dataset.from_tensor_slices(tf.cast(labels, tf.int64))"
      ],
      "execution_count": 12,
      "outputs": []
    },
    {
      "cell_type": "code",
      "metadata": {
        "id": "gdURAnVYbjFO"
      },
      "source": [
        "image_label_ds = tf.data.Dataset.zip((image_ds, label_ds))"
      ],
      "execution_count": 13,
      "outputs": []
    },
    {
      "cell_type": "code",
      "metadata": {
        "id": "V4Ju2xLQbjFO"
      },
      "source": [
        "BATCH_SIZE = 32\n",
        "DATASET_SIZE = BEE_SIZE+WASP_SIZE\n",
        "# Установка размера буфера перемешивания, равного набору данных, гарантирует\n",
        "# полное перемешивание данных.\n",
        "ds = image_label_ds.shuffle(buffer_size=DATASET_SIZE)\n",
        "ds = ds.repeat()\n"
      ],
      "execution_count": 14,
      "outputs": []
    },
    {
      "cell_type": "code",
      "metadata": {
        "id": "tFxBj9YTbjFP"
      },
      "source": [
        "TEST_SIZE = int(DATASET_SIZE * 0.3)\n",
        "TRAIN_SIZE = DATASET_SIZE - TEST_SIZE\n"
      ],
      "execution_count": 15,
      "outputs": []
    },
    {
      "cell_type": "code",
      "metadata": {
        "id": "fVTLHqOYbjFP"
      },
      "source": [
        "train_ds = ds.take(TRAIN_SIZE)\n",
        "test_ds = ds.skip(TRAIN_SIZE)\n",
        "# `prefetch` позволяет датасету извлекать пакеты в фоновом режиме, во время обучения модели.\n",
        "\n",
        "train_ds = train_ds.batch(BATCH_SIZE)\n",
        "train_ds = train_ds.prefetch(buffer_size=AUTOTUNE)\n",
        "\n",
        "test_ds = test_ds.batch(BATCH_SIZE)\n",
        "test_ds = test_ds.prefetch(buffer_size=AUTOTUNE)"
      ],
      "execution_count": 16,
      "outputs": []
    },
    {
      "cell_type": "markdown",
      "metadata": {
        "id": "c-zKoCNlbjFP"
      },
      "source": [
        "# Model"
      ]
    },
    {
      "cell_type": "code",
      "metadata": {
        "id": "2k1JX28qbjFP"
      },
      "source": [
        "dropout_rate = 0.5\n",
        "\n",
        "# def padding2d(inputs, padding):\n",
        "#     h, w = padding \n",
        "#     return tf.pad(inputs, [[0, 0], [h, h], [w, w], [0, 0]], \"CONSTANT\")\n",
        "\n",
        "def conv2d(inputs, filters, stride_size):\n",
        "    out = tf.nn.conv2d(inputs, filters, strides=[1, stride_size, stride_size, 1], padding='SAME') \n",
        "    return tf.nn.relu(out) \n",
        "\n",
        "def maxpool(inputs, pool_size, stride_size):\n",
        "    return tf.nn.max_pool2d(inputs , ksize=[1, pool_size, pool_size, 1] , padding='VALID' , strides=[1, stride_size, stride_size, 1])\n",
        "\n",
        "def dense(inputs, weights):\n",
        "    x = tf.nn.relu(tf.matmul(inputs, weights))\n",
        "    return tf.nn.dropout(x, rate=dropout_rate)"
      ],
      "execution_count": 17,
      "outputs": []
    },
    {
      "cell_type": "code",
      "metadata": {
        "id": "CuteJYsabjFQ"
      },
      "source": [
        "initializer = tf.initializers.glorot_uniform()\n",
        "def get_weight( shape , name ):\n",
        "    return tf.Variable( initializer( shape ) , name=name , trainable=True , dtype=tf.float32 )\n",
        "\n",
        "shapes = [\n",
        "    [3, 3, 3, 64], \n",
        "    [3, 3, 64, 64], \n",
        "    \n",
        "    [3, 3, 64, 128], \n",
        "    [3, 3, 128, 128],\n",
        "    \n",
        "    [3, 3, 128, 256], \n",
        "    [3, 3, 256, 256],\n",
        "    [3, 3, 256, 256],\n",
        "    \n",
        "    [3, 3, 256, 512],\n",
        "    [3, 3, 512, 512],\n",
        "    [3, 3, 512, 512],\n",
        "    \n",
        "    [3, 3, 512, 512],\n",
        "    [3, 3, 512, 512],\n",
        "    [3, 3, 512, 512],\n",
        "    \n",
        "    [7*7*512, 4096],\n",
        "    [4096, 4096],\n",
        "    [4096, 2]\n",
        "]\n",
        "\n",
        "weights = []\n",
        "for i in range(len(shapes)):\n",
        "    weights.append(get_weight(shapes[i], 'weight{}'.format(i)))\n"
      ],
      "execution_count": 18,
      "outputs": []
    },
    {
      "cell_type": "code",
      "metadata": {
        "id": "8nBjjzEfbjFQ"
      },
      "source": [
        "def model(x) :\n",
        "    x = tf.cast(x, dtype=tf.float32)\n",
        "    c1 = conv2d(x, weights[0], stride_size=1) \n",
        "    c1 = conv2d(c1, weights[1], stride_size=1) \n",
        "    p1 = maxpool(c1, pool_size=2, stride_size=2)\n",
        "    \n",
        "    c2 = conv2d(p1, weights[2], stride_size=1) \n",
        "    c2 = conv2d(c2, weights[3], stride_size=1) \n",
        "    p2 = maxpool(c2, pool_size=2, stride_size=2)\n",
        "    \n",
        "    c3 = conv2d(p2, weights[4], stride_size=1) \n",
        "    c3 = conv2d(c3, weights[5], stride_size=1) \n",
        "    c3 = conv2d(c3, weights[6], stride_size=1) \n",
        "    p3 = maxpool(c3, pool_size=2, stride_size=2)\n",
        "    \n",
        "    c4 = conv2d(p3, weights[7], stride_size=1) \n",
        "    c4 = conv2d(c4, weights[8], stride_size=1) \n",
        "    c4 = conv2d(c4, weights[9], stride_size=1) \n",
        "    p4 = maxpool(c4, pool_size=2, stride_size=2)\n",
        "    \n",
        "    c5 = conv2d(p4, weights[10], stride_size=1) \n",
        "    c5 = conv2d(c5, weights[11], stride_size=1) \n",
        "    c5 = conv2d(c5, weights[12], stride_size=1) \n",
        "    p5 = maxpool(c5, pool_size=2, stride_size=2)\n",
        "\n",
        "    flatten = tf.reshape(p5, shape=(tf.shape(p5)[0], -1))\n",
        "\n",
        "    d1 = dense(flatten, weights[13])\n",
        "    d2 = dense(d1, weights[14])\n",
        "    \n",
        "    \n",
        "    logits = tf.matmul(d2, weights[15])\n",
        "\n",
        "    return tf.nn.softmax(logits)"
      ],
      "execution_count": 19,
      "outputs": []
    },
    {
      "cell_type": "code",
      "metadata": {
        "id": "lGCTB39ybjFQ"
      },
      "source": [
        "loss_fn = tf.keras.losses.BinaryCrossentropy(from_logits=True)"
      ],
      "execution_count": 20,
      "outputs": []
    },
    {
      "cell_type": "code",
      "metadata": {
        "colab": {
          "base_uri": "https://localhost:8080/",
          "height": 250,
          "referenced_widgets": [
            "bcd22447dd14453fbff4a888e3ad1702",
            "ba4d85262b4e4999886f74b895364a4e",
            "a7145a76606e40d8824f7b36ada3f272",
            "4a0d04d825204018ba2c9ea04cdc8bcd",
            "2106aa44fb8e4c25be42df65443bea9e",
            "0e1c87698bce4a2aa703698547486b87",
            "016af419b4b24d0db3fa50b4ae7b7804",
            "811dceb107ac4889b75286e499fcdc77"
          ]
        },
        "id": "rK32JtO4bjFQ",
        "outputId": "2f9f4314-101c-436a-f8c5-7ceafd8ccc88"
      },
      "source": [
        "learning_rate = 1e-2\n",
        "optimizer = tf.optimizers.Adam(learning_rate)\n",
        "\n",
        "def train_step(model, inputs, outputs):\n",
        "    with tf.GradientTape() as tape:\n",
        "        current_loss = loss_fn(model(inputs), outputs)\n",
        "    grads = tape.gradient(current_loss, weights)\n",
        "    optimizer.apply_gradients(zip(grads, weights))\n",
        "    # print(tf.reduce_mean(current_loss))\n",
        "    return current_loss\n",
        "def test_step(model, inputs, outputs):\n",
        "    current_loss = loss_fn(model(inputs), outputs)\n",
        "    return current_loss\n",
        "    \n",
        "num_epochs = 11\n",
        "with tf.device('/gpu:0'):\n",
        "    for e in tqdm(range(num_epochs)):\n",
        "        loss_ep = 0.\n",
        "        count = 0\n",
        "        for features in train_ds:\n",
        "            image, label = features\n",
        "            loss_train = train_step(model, image, tf.one_hot(label, depth=2))\n",
        "            loss_ep += loss_train\n",
        "            count += 1\n",
        "        \n",
        "        # for features in test_ds:\n",
        "        #     image, label = features\n",
        "        #     loss_test = test_step(model, image, tf.one_hot(label, depth=2))\n",
        "        #     loss_ep += loss_test\n",
        "        #     count += 1\n",
        "        print('Ep: {}, Loss:{:.2f}'.format(e, loss_ep/count))"
      ],
      "execution_count": 22,
      "outputs": [
        {
          "output_type": "display_data",
          "data": {
            "application/vnd.jupyter.widget-view+json": {
              "model_id": "bcd22447dd14453fbff4a888e3ad1702",
              "version_major": 2,
              "version_minor": 0
            },
            "text/plain": [
              "HBox(children=(FloatProgress(value=0.0, max=11.0), HTML(value='')))"
            ]
          },
          "metadata": {
            "tags": []
          }
        },
        {
          "output_type": "stream",
          "text": [
            "Ep: 0, Loss:0.77\n",
            "Ep: 1, Loss:0.77\n",
            "Ep: 2, Loss:0.77\n",
            "Ep: 3, Loss:0.77\n",
            "Ep: 4, Loss:0.77\n",
            "Ep: 5, Loss:0.77\n",
            "Ep: 6, Loss:0.77\n",
            "Ep: 7, Loss:0.77\n",
            "Ep: 8, Loss:0.77\n",
            "Ep: 9, Loss:0.77\n",
            "Ep: 10, Loss:0.77\n",
            "\n"
          ],
          "name": "stdout"
        }
      ]
    },
    {
      "cell_type": "code",
      "metadata": {
        "id": "PXqpgVWqp7Ge"
      },
      "source": [
        "x, y = iter(train_ds).next()"
      ],
      "execution_count": 23,
      "outputs": []
    },
    {
      "cell_type": "code",
      "metadata": {
        "id": "dumRRE5j6yEO",
        "colab": {
          "base_uri": "https://localhost:8080/"
        },
        "outputId": "4d6c8618-8754-4d86-8952-eddb9d2a7fb2"
      },
      "source": [
        "model(x)"
      ],
      "execution_count": 24,
      "outputs": [
        {
          "output_type": "execute_result",
          "data": {
            "text/plain": [
              "<tf.Tensor: shape=(32, 2), dtype=float32, numpy=\n",
              "array([[1., 0.],\n",
              "       [1., 0.],\n",
              "       [1., 0.],\n",
              "       [1., 0.],\n",
              "       [1., 0.],\n",
              "       [1., 0.],\n",
              "       [1., 0.],\n",
              "       [1., 0.],\n",
              "       [1., 0.],\n",
              "       [1., 0.],\n",
              "       [1., 0.],\n",
              "       [1., 0.],\n",
              "       [1., 0.],\n",
              "       [1., 0.],\n",
              "       [1., 0.],\n",
              "       [1., 0.],\n",
              "       [1., 0.],\n",
              "       [1., 0.],\n",
              "       [1., 0.],\n",
              "       [1., 0.],\n",
              "       [1., 0.],\n",
              "       [1., 0.],\n",
              "       [1., 0.],\n",
              "       [1., 0.],\n",
              "       [1., 0.],\n",
              "       [1., 0.],\n",
              "       [1., 0.],\n",
              "       [1., 0.],\n",
              "       [1., 0.],\n",
              "       [1., 0.],\n",
              "       [1., 0.],\n",
              "       [1., 0.]], dtype=float32)>"
            ]
          },
          "metadata": {
            "tags": []
          },
          "execution_count": 24
        }
      ]
    },
    {
      "cell_type": "code",
      "metadata": {
        "id": "1lLy4OEw6zPV",
        "colab": {
          "base_uri": "https://localhost:8080/"
        },
        "outputId": "ae302451-8516-47ce-e2b5-c5f21dfd7c71"
      },
      "source": [
        "y"
      ],
      "execution_count": 25,
      "outputs": [
        {
          "output_type": "execute_result",
          "data": {
            "text/plain": [
              "<tf.Tensor: shape=(32,), dtype=int64, numpy=\n",
              "array([0, 1, 0, 0, 0, 1, 1, 0, 1, 0, 0, 1, 0, 0, 0, 1, 0, 0, 1, 1, 1, 0,\n",
              "       0, 0, 1, 1, 1, 0, 1, 1, 1, 0])>"
            ]
          },
          "metadata": {
            "tags": []
          },
          "execution_count": 25
        }
      ]
    },
    {
      "cell_type": "markdown",
      "metadata": {
        "id": "Dnu1J20WXtJo"
      },
      "source": [
        "Результат получился константным, модель предсказывает только второй класс. К сожалению я не успел за данное время нормально обучить модель. Пару предложений по отлаживанию модели:\n",
        "+ Просмотреть классы датасетов, убедиться в том, что подаются лейблы, соответствующие изображениям\n",
        "+ Более обдуманно подобрать learning rate\n",
        "+ Проследить действительно ли делается шаг при градиентном спуске"
      ]
    }
  ]
}